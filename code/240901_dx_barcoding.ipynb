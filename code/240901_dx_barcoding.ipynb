{
 "cells": [
  {
   "cell_type": "markdown",
   "id": "3adbb91d-2262-42d3-89d4-b4030deebd56",
   "metadata": {},
   "source": [
    "# 240901"
   ]
  },
  {
   "cell_type": "markdown",
   "id": "f9fb85b8-ec63-4cd5-b864-04bd716ec9b3",
   "metadata": {},
   "source": [
    "- continued from 240829_dx_barcoding.ipynb"
   ]
  },
  {
   "cell_type": "code",
   "execution_count": 1,
   "id": "1b12af8a-7444-4ae4-9251-a7e7309b2550",
   "metadata": {
    "tags": []
   },
   "outputs": [
    {
     "name": "stdout",
     "output_type": "stream",
     "text": [
      "\n",
      "     active environment : None\n",
      "       user config file : /home/dnanexus/.condarc\n",
      " populated config files : \n",
      "          conda version : 23.7.4\n",
      "    conda-build version : not installed\n",
      "         python version : 3.9.16.final.0\n",
      "       virtual packages : __archspec=1=x86_64\n",
      "                          __glibc=2.31=0\n",
      "                          __linux=5.15.0=0\n",
      "                          __unix=0=0\n",
      "       base environment : /opt/conda  (writable)\n",
      "      conda av data dir : /opt/conda/etc/conda\n",
      "  conda av metadata url : None\n",
      "           channel URLs : https://repo.anaconda.com/pkgs/main/linux-64\n",
      "                          https://repo.anaconda.com/pkgs/main/noarch\n",
      "                          https://repo.anaconda.com/pkgs/r/linux-64\n",
      "                          https://repo.anaconda.com/pkgs/r/noarch\n",
      "          package cache : /opt/conda/pkgs\n",
      "                          /home/dnanexus/.conda/pkgs\n",
      "       envs directories : /opt/conda/envs\n",
      "                          /home/dnanexus/.conda/envs\n",
      "               platform : linux-64\n",
      "             user-agent : conda/23.7.4 requests/2.32.0 CPython/3.9.16 Linux/5.15.0-1068-aws ubuntu/20.04.6 glibc/2.31\n",
      "                UID:GID : 0:0\n",
      "             netrc file : None\n",
      "           offline mode : False\n",
      "\n",
      "\n",
      "# packages in environment at /opt/conda:\n",
      "#\n",
      "# Name                    Version                   Build  Channel\n",
      "_libgcc_mutex             0.1                        main  \n",
      "_openmp_mutex             5.1                       1_gnu  \n",
      "aiofiles                  22.1.0             pyhd8ed1ab_0    conda-forge\n",
      "aiosqlite                 0.20.0             pyhd8ed1ab_0    conda-forge\n",
      "annotated-types           0.7.0                    pypi_0    pypi\n",
      "ansiwrap                  0.8.4                    pypi_0    pypi\n",
      "anyio                     3.7.1              pyhd8ed1ab_0    conda-forge\n",
      "argcomplete               1.12.3                   pypi_0    pypi\n",
      "argon2-cffi               23.1.0             pyhd8ed1ab_0    conda-forge\n",
      "argon2-cffi-bindings      21.2.0           py39hb9d737c_2    conda-forge\n",
      "asttokens                 2.4.1              pyhd8ed1ab_0    conda-forge\n",
      "attrs                     24.2.0             pyh71513ae_0    conda-forge\n",
      "babel                     2.14.0             pyhd8ed1ab_0    conda-forge\n",
      "bash-kernel               0.9.3                    pypi_0    pypi\n",
      "beautifulsoup4            4.12.3             pyha770c72_0    conda-forge\n",
      "bleach                    6.1.0              pyhd8ed1ab_0    conda-forge\n",
      "boltons                   23.0.0           py39h06a4308_0  \n",
      "brotlipy                  0.7.0           py39h27cfd23_1003  \n",
      "bzip2                     1.0.8                h5eee18b_6  \n",
      "ca-certificates           2024.7.2             h06a4308_0  \n",
      "certifi                   2024.7.4         py39h06a4308_0  \n",
      "cffi                      1.15.1           py39h5eee18b_3  \n",
      "charset-normalizer        2.0.4              pyhd3eb1b0_0  \n",
      "click                     8.1.7                    pypi_0    pypi\n",
      "coloredlogs               15.0.1                   pypi_0    pypi\n",
      "colormath                 3.0.0                    pypi_0    pypi\n",
      "comm                      0.2.2              pyhd8ed1ab_0    conda-forge\n",
      "conda                     23.7.4           py39hf3d152e_0    conda-forge\n",
      "conda-content-trust       0.1.3            py39h06a4308_0  \n",
      "conda-package-handling    2.0.2            py39h06a4308_0  \n",
      "conda-package-streaming   0.7.0            py39h06a4308_0  \n",
      "contourpy                 1.2.1                    pypi_0    pypi\n",
      "cryptography              39.0.2                   pypi_0    pypi\n",
      "cutadapt                  4.9                      pypi_0    pypi\n",
      "cycler                    0.12.1                   pypi_0    pypi\n",
      "dbus                      1.13.18              hb2f20db_0  \n",
      "debugpy                   1.6.0            py39h5a03fae_0    conda-forge\n",
      "decorator                 4.4.2                    pypi_0    pypi\n",
      "defusedxml                0.7.1              pyhd8ed1ab_0    conda-forge\n",
      "dnaio                     1.2.1                    pypi_0    pypi\n",
      "dxdata                    0.41.0                   pypi_0    pypi\n",
      "dxpy                      0.377.0                  pypi_0    pypi\n",
      "entrypoints               0.4                pyhd8ed1ab_0    conda-forge\n",
      "exceptiongroup            1.2.2              pyhd8ed1ab_0    conda-forge\n",
      "executing                 2.0.1              pyhd8ed1ab_0    conda-forge\n",
      "expat                     2.6.2                h6a678d5_0  \n",
      "fastqc                    0.11.8                        0    bioconda\n",
      "findspark                 2.0.1                    pypi_0    pypi\n",
      "fonttools                 4.53.1                   pypi_0    pypi\n",
      "freetype                  2.12.1               h4a9f257_0  \n",
      "future                    1.0.0                    pypi_0    pypi\n",
      "gdbm                      1.18                 hd4cb3f1_4  \n",
      "glib                      2.78.4               h6a678d5_0  \n",
      "glib-tools                2.78.4               h6a678d5_0  \n",
      "greenlet                  3.0.3                    pypi_0    pypi\n",
      "humanfriendly             10.0                     pypi_0    pypi\n",
      "humanize                  4.10.0                   pypi_0    pypi\n",
      "icu                       68.2                 h9c3ff4c_0    conda-forge\n",
      "idna                      3.4              py39h06a4308_0  \n",
      "importlib-metadata        8.2.0              pyha770c72_0    conda-forge\n",
      "importlib_metadata        8.2.0                hd8ed1ab_0    conda-forge\n",
      "importlib_resources       6.4.0              pyhd8ed1ab_0    conda-forge\n",
      "ipykernel                 6.20.2             pyh210e3f2_0    conda-forge\n",
      "ipython                   8.18.1             pyh707e725_3    conda-forge\n",
      "ipython_genutils          0.2.0              pyhd8ed1ab_1    conda-forge\n",
      "ipywidgets                8.0.6              pyhd8ed1ab_0    conda-forge\n",
      "isal                      1.7.0                    pypi_0    pypi\n",
      "jedi                      0.19.1             pyhd8ed1ab_0    conda-forge\n",
      "jinja2                    3.1.4              pyhd8ed1ab_0    conda-forge\n",
      "json5                     0.9.25             pyhd8ed1ab_0    conda-forge\n",
      "jsonpatch                 1.32               pyhd3eb1b0_0  \n",
      "jsonpointer               2.1                pyhd3eb1b0_0  \n",
      "jsonschema                4.17.3             pyhd8ed1ab_0    conda-forge\n",
      "jupyter_client            7.3.4              pyhd8ed1ab_0    conda-forge\n",
      "jupyter_core              5.7.2            py39hf3d152e_0    conda-forge\n",
      "jupyter_events            0.6.3              pyhd8ed1ab_0    conda-forge\n",
      "jupyter_server            1.24.0             pyhd8ed1ab_0    conda-forge\n",
      "jupyter_server_fileid     0.9.2              pyhd8ed1ab_0    conda-forge\n",
      "jupyter_server_ydoc       0.6.1              pyhd8ed1ab_0    conda-forge\n",
      "jupyter_ydoc              0.2.4              pyhd8ed1ab_0    conda-forge\n",
      "jupyterlab                3.6.1              pyhd8ed1ab_0    conda-forge\n",
      "jupyterlab-dx-extension   0.1.0                    pypi_0    pypi\n",
      "jupyterlab_pygments       0.3.0              pyhd8ed1ab_0    conda-forge\n",
      "jupyterlab_server         2.24.0             pyhd8ed1ab_0    conda-forge\n",
      "jupyterlab_widgets        3.0.11             pyhd8ed1ab_0    conda-forge\n",
      "kaleido                   0.2.1                    pypi_0    pypi\n",
      "kiwisolver                1.4.5                    pypi_0    pypi\n",
      "ld_impl_linux-64          2.38                 h1181459_1  \n",
      "libffi                    3.4.2                h6a678d5_6  \n",
      "libgcc-ng                 11.2.0               h1234567_1  \n",
      "libglib                   2.78.4               hdc74915_0  \n",
      "libgomp                   11.2.0               h1234567_1  \n",
      "libiconv                  1.16                 h5eee18b_3  \n",
      "libpng                    1.6.39               h5eee18b_0  \n",
      "libsodium                 1.0.18               h36c2ea0_1    conda-forge\n",
      "libstdcxx-ng              11.2.0               h1234567_1  \n",
      "libuv                     1.40.0               h7f98852_0    conda-forge\n",
      "libxcb                    1.15                 h7f8727e_0  \n",
      "markdown                  3.7                      pypi_0    pypi\n",
      "markdown-it-py            3.0.0                    pypi_0    pypi\n",
      "markupsafe                2.1.1            py39hb9d737c_1    conda-forge\n",
      "matplotlib                3.6.3                    pypi_0    pypi\n",
      "matplotlib-inline         0.1.7              pyhd8ed1ab_0    conda-forge\n",
      "mdurl                     0.1.2                    pypi_0    pypi\n",
      "mistune                   3.0.2              pyhd8ed1ab_0    conda-forge\n",
      "multiqc                   1.24.1                   pypi_0    pypi\n",
      "nbclassic                 1.1.0              pyhd8ed1ab_0    conda-forge\n",
      "nbclient                  0.10.0             pyhd8ed1ab_0    conda-forge\n",
      "nbconvert-core            7.16.4             pyhd8ed1ab_1    conda-forge\n",
      "nbformat                  5.10.4             pyhd8ed1ab_0    conda-forge\n",
      "ncurses                   6.4                  h6a678d5_0  \n",
      "nest-asyncio              1.6.0              pyhd8ed1ab_0    conda-forge\n",
      "networkx                  2.8.8                    pypi_0    pypi\n",
      "nodejs                    16.13.1              hb931c9a_0  \n",
      "notebook                  6.5.4              pyha770c72_0    conda-forge\n",
      "notebook-shim             0.2.4              pyhd8ed1ab_0    conda-forge\n",
      "numpy                     1.23.5                   pypi_0    pypi\n",
      "openjdk                   11.0.13              h87a67e3_0  \n",
      "openssl                   1.1.1w               h7f8727e_0  \n",
      "packaging                 23.0             py39h06a4308_0  \n",
      "pandas                    1.5.3                    pypi_0    pypi\n",
      "pandocfilters             1.5.0              pyhd8ed1ab_0    conda-forge\n",
      "papermill                 2.4.0                    pypi_0    pypi\n",
      "parso                     0.8.4              pyhd8ed1ab_0    conda-forge\n",
      "pcre2                     10.42                hebb0a14_1  \n",
      "perl                      5.34.0               h5eee18b_2  \n",
      "pexpect                   4.9.0              pyhd8ed1ab_0    conda-forge\n",
      "pickleshare               0.7.5                   py_1003    conda-forge\n",
      "pigz                      2.9rc3                   pypi_0    pypi\n",
      "pillow                    10.4.0                   pypi_0    pypi\n",
      "pip                       23.0.1           py39h06a4308_0  \n",
      "pkgutil-resolve-name      1.3.10             pyhd8ed1ab_1    conda-forge\n",
      "platformdirs              4.2.2              pyhd8ed1ab_0    conda-forge\n",
      "plotly                    5.24.0                   pypi_0    pypi\n",
      "pluggy                    1.0.0            py39h06a4308_1  \n",
      "prometheus_client         0.20.0             pyhd8ed1ab_0    conda-forge\n",
      "prompt-toolkit            3.0.47             pyha770c72_0    conda-forge\n",
      "psutil                    6.0.0                    pypi_0    pypi\n",
      "ptyprocess                0.7.0              pyhd3deb0d_0    conda-forge\n",
      "pure-sasl                 0.6.2                    pypi_0    pypi\n",
      "pure_eval                 0.2.3              pyhd8ed1ab_0    conda-forge\n",
      "py4j                      0.10.9.5                 pypi_0    pypi\n",
      "pyaml-env                 1.2.1                    pypi_0    pypi\n",
      "pycosat                   0.6.4            py39h5eee18b_0  \n",
      "pycparser                 2.21               pyhd3eb1b0_0  \n",
      "pydantic                  2.8.2                    pypi_0    pypi\n",
      "pydantic-core             2.20.1                   pypi_0    pypi\n",
      "pygments                  2.18.0             pyhd8ed1ab_0    conda-forge\n",
      "pyhive                    0.7.0                    pypi_0    pypi\n",
      "pyopenssl                 23.0.0           py39h06a4308_0  \n",
      "pypandoc                  1.13                     pypi_0    pypi\n",
      "pyparsing                 3.1.2                    pypi_0    pypi\n",
      "pyrsistent                0.18.1           py39hb9d737c_1    conda-forge\n",
      "pysocks                   1.7.1            py39h06a4308_0  \n",
      "pyspark                   3.2.3                    pypi_0    pypi\n",
      "python                    3.9.16               h7a1cb2a_2  \n",
      "python-dateutil           2.9.0              pyhd8ed1ab_0    conda-forge\n",
      "python-fastjsonschema     2.20.0             pyhd8ed1ab_0    conda-forge\n",
      "python-json-logger        2.0.7              pyhd8ed1ab_0    conda-forge\n",
      "python_abi                3.9                      2_cp39    conda-forge\n",
      "pytz                      2024.1             pyhd8ed1ab_0    conda-forge\n",
      "pyyaml                    5.4.1                    pypi_0    pypi\n",
      "pyzmq                     23.0.0           py39headdf64_0    conda-forge\n",
      "readline                  8.2                  h5eee18b_0  \n",
      "requests                  2.32.0                   pypi_0    pypi\n",
      "rfc3339-validator         0.1.4              pyhd8ed1ab_0    conda-forge\n",
      "rfc3986-validator         0.1.1              pyh9f0ad1d_0    conda-forge\n",
      "rich                      13.8.0                   pypi_0    pypi\n",
      "rich-click                1.8.3                    pypi_0    pypi\n",
      "ruamel.yaml               0.17.21          py39h5eee18b_0  \n",
      "ruamel.yaml.clib          0.2.6            py39h5eee18b_1  \n",
      "sasl                      0.3.1                    pypi_0    pypi\n",
      "scipy                     1.9.3                    pypi_0    pypi\n",
      "seaborn                   0.12.2                   pypi_0    pypi\n",
      "send2trash                1.8.3              pyh0d859eb_0    conda-forge\n",
      "setuptools                65.6.3           py39h06a4308_0  \n",
      "six                       1.16.0             pyhd3eb1b0_1  \n",
      "sniffio                   1.3.1              pyhd8ed1ab_0    conda-forge\n",
      "soupsieve                 2.5                pyhd8ed1ab_1    conda-forge\n",
      "spectra                   0.0.11                   pypi_0    pypi\n",
      "sqlalchemy                1.4.49                   pypi_0    pypi\n",
      "sqlite                    3.41.1               h5eee18b_0  \n",
      "sqlparse                  0.5.1                    pypi_0    pypi\n",
      "stack_data                0.6.2              pyhd8ed1ab_0    conda-forge\n",
      "tenacity                  9.0.0                    pypi_0    pypi\n",
      "terminado                 0.18.1             pyh0d859eb_0    conda-forge\n",
      "textwrap3                 0.9.2                    pypi_0    pypi\n",
      "thrift                    0.20.0                   pypi_0    pypi\n",
      "thrift-sasl               0.4.3                    pypi_0    pypi\n",
      "tinycss2                  1.3.0              pyhd8ed1ab_0    conda-forge\n",
      "tk                        8.6.12               h1ccaba5_0  \n",
      "tomli                     2.0.1              pyhd8ed1ab_0    conda-forge\n",
      "toolz                     0.12.0           py39h06a4308_0  \n",
      "tornado                   6.1              py39hb9d737c_3    conda-forge\n",
      "tqdm                      4.65.0           py39hb070fc8_0  \n",
      "traitlets                 5.9.0              pyhd8ed1ab_0    conda-forge\n",
      "typeguard                 4.3.0                    pypi_0    pypi\n",
      "typing                    3.7.4.1                  pypi_0    pypi\n",
      "typing-extensions         4.12.2               hd8ed1ab_0    conda-forge\n",
      "typing_extensions         4.12.2             pyha770c72_0    conda-forge\n",
      "tzdata                    2023c                h04d1e81_0  \n",
      "urllib3                   1.26.15          py39h06a4308_0  \n",
      "wcwidth                   0.2.13             pyhd8ed1ab_0    conda-forge\n",
      "webencodings              0.5.1              pyhd8ed1ab_2    conda-forge\n",
      "websocket-client          1.7.0                    pypi_0    pypi\n",
      "wheel                     0.38.4           py39h06a4308_0  \n",
      "widgetsnbextension        4.0.11             pyhd8ed1ab_0    conda-forge\n",
      "xopen                     2.0.2                    pypi_0    pypi\n",
      "xz                        5.2.10               h5eee18b_1  \n",
      "y-py                      0.5.9            py39h52d8a92_0  \n",
      "yaml                      0.2.5                h7f98852_2    conda-forge\n",
      "ypy-websocket             0.8.2              pyhd8ed1ab_0    conda-forge\n",
      "zeromq                    4.3.4                h9c3ff4c_1    conda-forge\n",
      "zipp                      3.19.2             pyhd8ed1ab_0    conda-forge\n",
      "zlib                      1.2.13               h5eee18b_0  \n",
      "zlib-ng                   0.5.0                    pypi_0    pypi\n",
      "zstandard                 0.19.0           py39h5eee18b_0  \n"
     ]
    }
   ],
   "source": [
    "!conda info\n",
    "!conda list"
   ]
  },
  {
   "cell_type": "markdown",
   "id": "e9f7e0a5-41e7-4851-af4a-225418f17014",
   "metadata": {},
   "source": [
    "## convert fq.gz to fasta"
   ]
  },
  {
   "cell_type": "code",
   "execution_count": 3,
   "id": "56e2ea63-52d3-42a4-b935-526516786888",
   "metadata": {
    "tags": []
   },
   "outputs": [
    {
     "name": "stdout",
     "output_type": "stream",
     "text": [
      "@A00583:1366:HVGLJDRX3:1:2101:17960:1031 1:N:0:TACGAC\n",
      "CNACTGACTGTGCATGCAACTGGTACGTTGGGAGGTGAGGCTACCTGAGCAGTGTGTGTACCATGTGCGTGCGTT\n",
      "+\n",
      "F#FFFFFFFFFFFFFFFFFFFFFFFFFFFFFFFFFFFFFFFFFFFFFFFF:FFFFFFFFFFFFFFFFFF:FFFFF\n",
      "@A00583:1366:HVGLJDRX3:1:2101:18267:1031 1:N:0:TACGAC\n",
      "ANACGTACGTGTCACAGTGTCATGGTTGTGGGAGGTGAGGCTACCTGAGCAAAGTACACACGCACTGCGTGCGTT\n",
      "+\n",
      "F#FFFFFFFFFFFFFFFFFFFFFFFFFFFFFFFFFFFFFFFFFFFFFFFFFFFFFFFFFFFFFFFFFFFFFFFFF\n",
      "@A00583:1366:HVGLJDRX3:1:2101:18285:1031 1:N:0:TACGAC\n",
      "TNGTGTTGTGGTACACACCAGTTGACACTGGGAGGTGAGGCTACCTGAGCACAACTGTGACACGTTGCGTGCGTT\n",
      "+\n",
      ":#FFF:FFFFFFFFFFFFF:FFFFFF,FFFFFFFFFFFFFFFFFFFFFFFFF:FFFFFFF:FFFFFFFFF,FF:F\n",
      "@A00583:1366:HVGLJDRX3:1:2101:18430:1031 1:N:0:TACGAC\n",
      "TNACGTGTACCACAGTCACAGTTGACGTCAGGAGGTGAGGCTACCTGAGCACACACATGACTGACTGCGTGCGTT\n",
      "+\n",
      "F#FFFFFFFFFFFFFFFFFFFFFFFFFFFFFFFFFFFFFFFFFFFFFFFFFFFFFFFFFFFFFFFFFFFFFFFFF\n",
      "@A00583:1366:HVGLJDRX3:1:2101:18484:1031 1:N:0:TACGAC\n",
      "ANACGTCAGTGTTGTGTGCAGTACTGCACAGGAGGTGAGGCTACCTGAGCAGTCAGTCACAGTACTGCGTGCGTT\n",
      "+\n",
      "F#FFFFFFFFFFFFFFFFFFFFFFFFFFFFFFFFFFFFFFFFFFFFFFFFFFFFFFFFFFFFFFFFFFFFFFFFF\n",
      "@A00583:1366:HVGLJDRX3:1:2101:18557:1031 1:N:0:TACGAC\n",
      "GNTGCAACGTGTTGCATGCATGCAGTGTCAGGAGGTGAGGCTACCTGAGCAACGTACCAACCATGTGCGTGCGTT\n",
      "+\n",
      "F#FFFFFFFFFFFFFFFFFFFFFFFFFFFFFFFFFFFFFFFFFFFFFFFFFFFFFFFFFFFFFFFFFFFFFFFFF\n",
      "@A00583:1366:HVGLJDRX3:1:2101:18593:1031 1:N:0:TACGAC\n",
      "ANACTGCATGTGGTACCATGACACACCATGGGAGGTGAGGCTACCTGAGCAGTACTGGTACACTGTGCGTGCGTT\n",
      "+\n",
      "F#FFFFFFFFFFFFFFFFFFFFFFFFFFFFFFFFFFFFFFFFFFFFF:FFFF:FFFFFFFFFFFFFFFFFFFFFF\n",
      "@A00583:1366:HVGLJDRX3:1:2101:18683:1031 1:N:0:TACGAC\n",
      "TNCAGTTGTGTGACACTGCAACTGACGTGTGGAGGTGAGGCTACCTGAGCACAGTGTACCAGTACTGCGTGCGTT\n",
      "+\n",
      "F#FFFFFFFFFFFFFFFFFFFFFFFFFFFFFFFFFFFFFFFFFFFFFFFFFF:FFFF,FFFFFFFFFFFFFFFFF\n",
      "@A00583:1366:HVGLJDRX3:1:2101:18701:1031 1:N:0:TACGAC\n",
      "TNGTCAACGTGTGTTGACTGCATGGTGTGTGGAGGTGAGGCTACCTGAGCACACATGTGCAGTTGTGCGTGCGTT\n",
      "+\n",
      "F#FFFF:,F,F:FFFFF::FFF:FFFFFF:FFFFFFFFFFFFFFFFFFFFFFF::::FFFFF,FFFFFFFFFFFF\n",
      "@A00583:1366:HVGLJDRX3:1:2101:18719:1031 1:N:0:TACGAC\n",
      "CNTGGTACCATGCACATGGTACGTCAACCAGGAGGTGAGGCTACCTGAGCAGTACTGGTACATCATGCGTGCGTT\n",
      "+\n",
      "F#FFFFFFFFFFFFFFFFFFFFFFFFFFFFFFFFFFFFFFFFFFFFFFFFFFFFFFFFFFFFFFFFFFFFFFFFF\n",
      "\n",
      "gzip: stdout: Broken pipe\n"
     ]
    }
   ],
   "source": [
    "!zcat 02_trim_galore/SQ24063943-4880-Lib-K-MOI-0-2-20240613_combined_R1_trimmed.fq.gz | \\\n",
    "    head -n 40"
   ]
  },
  {
   "cell_type": "code",
   "execution_count": 2,
   "id": "90686ea7-0d86-4aaa-a9ec-c6abf62a7a0e",
   "metadata": {
    "tags": []
   },
   "outputs": [
    {
     "name": "stdout",
     "output_type": "stream",
     "text": [
      "\n",
      "gzip: stdout: Broken pipe\n",
      ">@A00583:1366:HVGLJDRX3:1:2101:17960:1031\n",
      "CNACTGACTGTGCATGCAACTGGTACGTTGGGAGGTGAGGCTACCTGAGCAGTGTGTGTACCATGTGCGTGCGTT\n",
      ">@A00583:1366:HVGLJDRX3:1:2101:18267:1031\n",
      "ANACGTACGTGTCACAGTGTCATGGTTGTGGGAGGTGAGGCTACCTGAGCAAAGTACACACGCACTGCGTGCGTT\n",
      ">@A00583:1366:HVGLJDRX3:1:2101:18285:1031\n",
      "TNGTGTTGTGGTACACACCAGTTGACACTGGGAGGTGAGGCTACCTGAGCACAACTGTGACACGTTGCGTGCGTT\n",
      ">@A00583:1366:HVGLJDRX3:1:2101:18430:1031\n",
      "TNACGTGTACCACAGTCACAGTTGACGTCAGGAGGTGAGGCTACCTGAGCACACACATGACTGACTGCGTGCGTT\n",
      ">@A00583:1366:HVGLJDRX3:1:2101:18484:1031\n",
      "ANACGTCAGTGTTGTGTGCAGTACTGCACAGGAGGTGAGGCTACCTGAGCAGTCAGTCACAGTACTGCGTGCGTT\n",
      ">@A00583:1366:HVGLJDRX3:1:2101:18557:1031\n",
      "GNTGCAACGTGTTGCATGCATGCAGTGTCAGGAGGTGAGGCTACCTGAGCAACGTACCAACCATGTGCGTGCGTT\n",
      ">@A00583:1366:HVGLJDRX3:1:2101:18593:1031\n",
      "ANACTGCATGTGGTACCATGACACACCATGGGAGGTGAGGCTACCTGAGCAGTACTGGTACACTGTGCGTGCGTT\n",
      ">@A00583:1366:HVGLJDRX3:1:2101:18683:1031\n",
      "TNCAGTTGTGTGACACTGCAACTGACGTGTGGAGGTGAGGCTACCTGAGCACAGTGTACCAGTACTGCGTGCGTT\n",
      ">@A00583:1366:HVGLJDRX3:1:2101:18701:1031\n",
      "TNGTCAACGTGTGTTGACTGCATGGTGTGTGGAGGTGAGGCTACCTGAGCACACATGTGCAGTTGTGCGTGCGTT\n",
      ">@A00583:1366:HVGLJDRX3:1:2101:18719:1031\n",
      "CNTGGTACCATGCACATGGTACGTCAACCAGGAGGTGAGGCTACCTGAGCAGTACTGGTACATCATGCGTGCGTT\n"
     ]
    }
   ],
   "source": [
    "# convert fq.gz to fasta\n",
    "!zcat 02_trim_galore/SQ24063943-4880-Lib-K-MOI-0-2-20240613_combined_R1_trimmed.fq.gz | \\\n",
    "    head -n 40 | \\\n",
    "    awk 'NR%4==1 {print \">\"$1} NR%4==2' > test.fa\n",
    "!cat test.fa"
   ]
  },
  {
   "cell_type": "code",
   "execution_count": 4,
   "id": "9a9f1ef0-fe39-461d-ad7a-ee28b293aa43",
   "metadata": {
    "tags": []
   },
   "outputs": [
    {
     "name": "stdout",
     "output_type": "stream",
     "text": [
      "#!/bin/bash\n",
      "\n",
      "# Define the input and output directories\n",
      "INPUT_DIR=\"02_trim_galore\"\n",
      "OUTPUT_DIR=\"04_fq.gz_to_fasta\"\n",
      "\n",
      "# Create the output directory if it doesn't exist\n",
      "mkdir -p $OUTPUT_DIR\n",
      "\n",
      "# Find all .fq.gz files in the input directory and process them\n",
      "for file in $INPUT_DIR/*.fq.gz; do\n",
      "    # Get the base name of the file (without path and extension)\n",
      "    base_name=$(basename \"$file\" .fq.gz)\n",
      "    \n",
      "    # Define the output file name\n",
      "    output_file=\"$OUTPUT_DIR/${base_name}.fa\"\n",
      "    \n",
      "    # Convert the .fq.gz file to FASTA format and save it\n",
      "    zcat \"$file\" | \\\n",
      "        awk 'NR%4==1 {print \">\"$1} NR%4==2' > \"$output_file\"\n",
      "    \n",
      "    echo \"Converted $file to $output_file\"\n",
      "done\n"
     ]
    }
   ],
   "source": [
    "!cat convert_fqgz_to_fasta.sh"
   ]
  },
  {
   "cell_type": "code",
   "execution_count": 5,
   "id": "b8f417e2-1102-4267-87e7-3d969b2c5c1e",
   "metadata": {
    "tags": []
   },
   "outputs": [],
   "source": [
    "!chmod +x convert_fqgz_to_fasta.sh"
   ]
  },
  {
   "cell_type": "code",
   "execution_count": 7,
   "id": "26b38c74-c891-4332-8b21-76e16d6a7dec",
   "metadata": {
    "tags": []
   },
   "outputs": [
    {
     "name": "stdout",
     "output_type": "stream",
     "text": [
      "Converted 02_trim_galore/SQ24063943-4880-Lib-K-MOI-0-2-20240613_combined_R1_trimmed.fq.gz to 04_fq.gz_to_fasta/SQ24063943-4880-Lib-K-MOI-0-2-20240613_combined_R1_trimmed.fa\n",
      "Converted 02_trim_galore/SQ24063944-4882-Lib-L-MOI-0-07-20240617_combined_R1_trimmed.fq.gz to 04_fq.gz_to_fasta/SQ24063944-4882-Lib-L-MOI-0-07-20240617_combined_R1_trimmed.fa\n",
      "Converted 02_trim_galore/SQ24063945-4884-Lib-K-9945-1-20240621_combined_R1_trimmed.fq.gz to 04_fq.gz_to_fasta/SQ24063945-4884-Lib-K-9945-1-20240621_combined_R1_trimmed.fa\n",
      "Converted 02_trim_galore/SQ24063946-4885-Lib-K-9945-2-20240621_combined_R1_trimmed.fq.gz to 04_fq.gz_to_fasta/SQ24063946-4885-Lib-K-9945-2-20240621_combined_R1_trimmed.fa\n",
      "Converted 02_trim_galore/SQ24063947-4886-Lib-K-9945-3-20240621_combined_R1_trimmed.fq.gz to 04_fq.gz_to_fasta/SQ24063947-4886-Lib-K-9945-3-20240621_combined_R1_trimmed.fa\n",
      "Converted 02_trim_galore/SQ24063948-4887-Lib-K-9945-4-20240617_combined_R1_trimmed.fq.gz to 04_fq.gz_to_fasta/SQ24063948-4887-Lib-K-9945-4-20240617_combined_R1_trimmed.fa\n",
      "Converted 02_trim_galore/SQ24063949-4888-Lib-K-9945-5-20240617_combined_R1_trimmed.fq.gz to 04_fq.gz_to_fasta/SQ24063949-4888-Lib-K-9945-5-20240617_combined_R1_trimmed.fa\n",
      "Converted 02_trim_galore/SQ24063950-4889-Lib-K-9945-6-20240617_combined_R1_trimmed.fq.gz to 04_fq.gz_to_fasta/SQ24063950-4889-Lib-K-9945-6-20240617_combined_R1_trimmed.fa\n",
      "Converted 02_trim_galore/SQ24063951-4890-Lib-K-7977-7-20240621_combined_R1_trimmed.fq.gz to 04_fq.gz_to_fasta/SQ24063951-4890-Lib-K-7977-7-20240621_combined_R1_trimmed.fa\n",
      "Converted 02_trim_galore/SQ24063952-4891-Lib-K-7977-8-20240621_combined_R1_trimmed.fq.gz to 04_fq.gz_to_fasta/SQ24063952-4891-Lib-K-7977-8-20240621_combined_R1_trimmed.fa\n",
      "Converted 02_trim_galore/SQ24063953-4892-Lib-K-7977-9-20240621_combined_R1_trimmed.fq.gz to 04_fq.gz_to_fasta/SQ24063953-4892-Lib-K-7977-9-20240621_combined_R1_trimmed.fa\n",
      "Converted 02_trim_galore/SQ24063954-4893-Lib-K-7977-10-20240617_combined_R1_trimmed.fq.gz to 04_fq.gz_to_fasta/SQ24063954-4893-Lib-K-7977-10-20240617_combined_R1_trimmed.fa\n",
      "Converted 02_trim_galore/SQ24063955-4894-Lib-K-7977-11-20240617_combined_R1_trimmed.fq.gz to 04_fq.gz_to_fasta/SQ24063955-4894-Lib-K-7977-11-20240617_combined_R1_trimmed.fa\n",
      "Converted 02_trim_galore/SQ24063956-4895-Lib-K-7977-12-20240617_combined_R1_trimmed.fq.gz to 04_fq.gz_to_fasta/SQ24063956-4895-Lib-K-7977-12-20240617_combined_R1_trimmed.fa\n",
      "Converted 02_trim_galore/SQ24063957-4896-Lib-K-DMSO-13-20240617_combined_R1_trimmed.fq.gz to 04_fq.gz_to_fasta/SQ24063957-4896-Lib-K-DMSO-13-20240617_combined_R1_trimmed.fa\n",
      "Converted 02_trim_galore/SQ24063958-4897-Lib-K-DMSO-14-20240617_combined_R1_trimmed.fq.gz to 04_fq.gz_to_fasta/SQ24063958-4897-Lib-K-DMSO-14-20240617_combined_R1_trimmed.fa\n",
      "Converted 02_trim_galore/SQ24063959-4898-Lib-K-DMSO-15-20240617_combined_R1_trimmed.fq.gz to 04_fq.gz_to_fasta/SQ24063959-4898-Lib-K-DMSO-15-20240617_combined_R1_trimmed.fa\n",
      "Converted 02_trim_galore/SQ24063960-0790-Lib-LS180-9945-1_combined_R1_trimmed.fq.gz to 04_fq.gz_to_fasta/SQ24063960-0790-Lib-LS180-9945-1_combined_R1_trimmed.fa\n",
      "Converted 02_trim_galore/SQ24063961-0791-Lib-LS180-9945-2_combined_R1_trimmed.fq.gz to 04_fq.gz_to_fasta/SQ24063961-0791-Lib-LS180-9945-2_combined_R1_trimmed.fa\n",
      "Converted 02_trim_galore/SQ24063962-0792-Lib-LS180-9945-3_combined_R1_trimmed.fq.gz to 04_fq.gz_to_fasta/SQ24063962-0792-Lib-LS180-9945-3_combined_R1_trimmed.fa\n",
      "Converted 02_trim_galore/SQ24063963-0793-Lib-LS180-9945-4_combined_R1_trimmed.fq.gz to 04_fq.gz_to_fasta/SQ24063963-0793-Lib-LS180-9945-4_combined_R1_trimmed.fa\n",
      "Converted 02_trim_galore/SQ24063964-0794-Lib-LS180-9945-5_combined_R1_trimmed.fq.gz to 04_fq.gz_to_fasta/SQ24063964-0794-Lib-LS180-9945-5_combined_R1_trimmed.fa\n",
      "Converted 02_trim_galore/SQ24063965-0795-Lib-LS180-9945-6_combined_R1_trimmed.fq.gz to 04_fq.gz_to_fasta/SQ24063965-0795-Lib-LS180-9945-6_combined_R1_trimmed.fa\n",
      "Converted 02_trim_galore/SQ24063966-0796-Lib-LS180-7977-7_combined_R1_trimmed.fq.gz to 04_fq.gz_to_fasta/SQ24063966-0796-Lib-LS180-7977-7_combined_R1_trimmed.fa\n",
      "Converted 02_trim_galore/SQ24063967-0797-Lib-LS180-7977-8_combined_R1_trimmed.fq.gz to 04_fq.gz_to_fasta/SQ24063967-0797-Lib-LS180-7977-8_combined_R1_trimmed.fa\n",
      "Converted 02_trim_galore/SQ24063968-0798-Lib-LS180-7977-9_combined_R1_trimmed.fq.gz to 04_fq.gz_to_fasta/SQ24063968-0798-Lib-LS180-7977-9_combined_R1_trimmed.fa\n",
      "Converted 02_trim_galore/SQ24063969-0799-Lib-LS180-7977-10_combined_R1_trimmed.fq.gz to 04_fq.gz_to_fasta/SQ24063969-0799-Lib-LS180-7977-10_combined_R1_trimmed.fa\n",
      "Converted 02_trim_galore/SQ24063970-0800-Lib-LS180-7977-11_combined_R1_trimmed.fq.gz to 04_fq.gz_to_fasta/SQ24063970-0800-Lib-LS180-7977-11_combined_R1_trimmed.fa\n",
      "Converted 02_trim_galore/SQ24063971-0801-Lib-LS180-7977-12_combined_R1_trimmed.fq.gz to 04_fq.gz_to_fasta/SQ24063971-0801-Lib-LS180-7977-12_combined_R1_trimmed.fa\n",
      "Converted 02_trim_galore/SQ24063972-0802-Lib-LS180-DMSO-13_combined_R1_trimmed.fq.gz to 04_fq.gz_to_fasta/SQ24063972-0802-Lib-LS180-DMSO-13_combined_R1_trimmed.fa\n",
      "Converted 02_trim_galore/SQ24063973-0804-Lib-LS180-DMSO-14_combined_R1_trimmed.fq.gz to 04_fq.gz_to_fasta/SQ24063973-0804-Lib-LS180-DMSO-14_combined_R1_trimmed.fa\n",
      "Converted 02_trim_galore/SQ24063974-0806-Lib-LS180-DMSO-15_combined_R1_trimmed.fq.gz to 04_fq.gz_to_fasta/SQ24063974-0806-Lib-LS180-DMSO-15_combined_R1_trimmed.fa\n"
     ]
    }
   ],
   "source": [
    "!./convert_fqgz_to_fasta.sh"
   ]
  },
  {
   "cell_type": "code",
   "execution_count": 9,
   "id": "25c4878f-9320-46f7-8bd5-504c5c028d59",
   "metadata": {
    "tags": []
   },
   "outputs": [
    {
     "name": "stdout",
     "output_type": "stream",
     "text": [
      ">@A00583:1366:HVGLJDRX3:1:2101:17960:1031\n",
      "CNACTGACTGTGCATGCAACTGGTACGTTGGGAGGTGAGGCTACCTGAGCAGTGTGTGTACCATGTGCGTGCGTT\n",
      ">@A00583:1366:HVGLJDRX3:1:2101:18267:1031\n",
      "ANACGTACGTGTCACAGTGTCATGGTTGTGGGAGGTGAGGCTACCTGAGCAAAGTACACACGCACTGCGTGCGTT\n",
      ">@A00583:1366:HVGLJDRX3:1:2101:18285:1031\n",
      "TNGTGTTGTGGTACACACCAGTTGACACTGGGAGGTGAGGCTACCTGAGCACAACTGTGACACGTTGCGTGCGTT\n",
      ">@A00583:1366:HVGLJDRX3:1:2101:18430:1031\n",
      "TNACGTGTACCACAGTCACAGTTGACGTCAGGAGGTGAGGCTACCTGAGCACACACATGACTGACTGCGTGCGTT\n",
      ">@A00583:1366:HVGLJDRX3:1:2101:18484:1031\n",
      "ANACGTCAGTGTTGTGTGCAGTACTGCACAGGAGGTGAGGCTACCTGAGCAGTCAGTCACAGTACTGCGTGCGTT\n",
      "cat: write error: Broken pipe\n"
     ]
    }
   ],
   "source": [
    "!cat 04_fq.gz_to_fasta/SQ24063943-4880-Lib-K-MOI-0-2-20240613_combined_R1_trimmed.fa | \\\n",
    "    head"
   ]
  },
  {
   "cell_type": "markdown",
   "id": "8d251585-99ee-43ea-8237-55e3bef04dcb",
   "metadata": {},
   "source": [
    "## convert Biao's barcode csvs to fasta"
   ]
  },
  {
   "cell_type": "code",
   "execution_count": 5,
   "id": "bfd24c9f-f158-4e38-b841-d089bafb65cd",
   "metadata": {
    "tags": []
   },
   "outputs": [
    {
     "data": {
      "text/html": [
       "<div><style>\n",
       ".dataframe > thead > tr,\n",
       ".dataframe > tbody > tr {\n",
       "  text-align: right;\n",
       "  white-space: pre-wrap;\n",
       "}\n",
       "</style>\n",
       "<small>shape: (5, 2)</small><table border=\"1\" class=\"dataframe\"><thead><tr><th>name</th><th>barcode</th></tr><tr><td>str</td><td>str</td></tr></thead><tbody><tr><td>&quot;bc14-1001&quot;</td><td>&quot;CAACACACACACAC&quot;</td></tr><tr><td>&quot;bc14-1002&quot;</td><td>&quot;ACCAACACACACTG&quot;</td></tr><tr><td>&quot;bc14-1003&quot;</td><td>&quot;ACACTGACACACTG&quot;</td></tr><tr><td>&quot;bc14-1004&quot;</td><td>&quot;GTACTGACACACAC&quot;</td></tr><tr><td>&quot;bc14-1005&quot;</td><td>&quot;ACGTTGACACACCA&quot;</td></tr></tbody></table></div>"
      ],
      "text/plain": [
       "shape: (5, 2)\n",
       "┌───────────┬────────────────┐\n",
       "│ name      ┆ barcode        │\n",
       "│ ---       ┆ ---            │\n",
       "│ str       ┆ str            │\n",
       "╞═══════════╪════════════════╡\n",
       "│ bc14-1001 ┆ CAACACACACACAC │\n",
       "│ bc14-1002 ┆ ACCAACACACACTG │\n",
       "│ bc14-1003 ┆ ACACTGACACACTG │\n",
       "│ bc14-1004 ┆ GTACTGACACACAC │\n",
       "│ bc14-1005 ┆ ACGTTGACACACCA │\n",
       "└───────────┴────────────────┘"
      ]
     },
     "metadata": {},
     "output_type": "display_data"
    },
    {
     "data": {
      "text/html": [
       "<div><style>\n",
       ".dataframe > thead > tr,\n",
       ".dataframe > tbody > tr {\n",
       "  text-align: right;\n",
       "  white-space: pre-wrap;\n",
       "}\n",
       "</style>\n",
       "<small>shape: (5, 2)</small><table border=\"1\" class=\"dataframe\"><thead><tr><th>name</th><th>barcode</th></tr><tr><td>str</td><td>str</td></tr></thead><tbody><tr><td>&quot;bc30-1000001&quot;</td><td>&quot;TGACACACACACACACACACACTGACCATG&quot;</td></tr><tr><td>&quot;bc30-1000002&quot;</td><td>&quot;TGACACACACTGACTGACTGACTGACACCA&quot;</td></tr><tr><td>&quot;bc30-1000003&quot;</td><td>&quot;TGACACCAACTGACACACACACGTACTGAC&quot;</td></tr><tr><td>&quot;bc30-1000004&quot;</td><td>&quot;TGTGACACACGTACACACCAACCAACTGAC&quot;</td></tr><tr><td>&quot;bc30-1000005&quot;</td><td>&quot;TGTGACGTACCAACTGACTGACGTACACTG&quot;</td></tr></tbody></table></div>"
      ],
      "text/plain": [
       "shape: (5, 2)\n",
       "┌──────────────┬────────────────────────────────┐\n",
       "│ name         ┆ barcode                        │\n",
       "│ ---          ┆ ---                            │\n",
       "│ str          ┆ str                            │\n",
       "╞══════════════╪════════════════════════════════╡\n",
       "│ bc30-1000001 ┆ TGACACACACACACACACACACTGACCATG │\n",
       "│ bc30-1000002 ┆ TGACACACACTGACTGACTGACTGACACCA │\n",
       "│ bc30-1000003 ┆ TGACACCAACTGACACACACACGTACTGAC │\n",
       "│ bc30-1000004 ┆ TGTGACACACGTACACACCAACCAACTGAC │\n",
       "│ bc30-1000005 ┆ TGTGACGTACCAACTGACTGACGTACACTG │\n",
       "└──────────────┴────────────────────────────────┘"
      ]
     },
     "execution_count": 5,
     "metadata": {},
     "output_type": "execute_result"
    }
   ],
   "source": [
    "# barcode libraries\n",
    "import polars as pl\n",
    "\n",
    "# bc30 and bc14 from Biao's csv files\n",
    "bc30 = pl.read_csv(\"barcode_library_bc30.csv\")\n",
    "bc14 = pl.read_csv(\"barcode_library_bc14.csv\")\n",
    "\n",
    "display(bc14.head())\n",
    "bc30.head()"
   ]
  },
  {
   "cell_type": "code",
   "execution_count": 6,
   "id": "f99fd31e-c7a1-40ed-baa6-5e0770356d43",
   "metadata": {
    "tags": []
   },
   "outputs": [
    {
     "name": "stdout",
     "output_type": "stream",
     "text": [
      ">bc30-1000001\n",
      "TGACACACACACACACACACACTGACCATG\n",
      ">bc30-1000002\n",
      "TGACACACACTGACTGACTGACTGACACCA\n",
      ">bc30-1000003\n",
      "TGACACCAACTGACACACACACGTACTGAC\n",
      ">bc30-1000004\n",
      "TGTGACACACGTACACACCAACCAACTGAC\n",
      ">bc30-1000005\n",
      "TGTGACGTACCAACTGACTGACGTACACTG\n",
      ">bc30-1000006\n",
      "TGGTACACACCAACACACGTACTGACGTCA\n",
      ">bc30-1000007\n",
      "TGGTACGTACTGACGTACGTACTGACCAAC\n",
      ">bc30-1000008\n",
      "TGCAACACACTGACTGACCAACTGACTGTG\n"
     ]
    }
   ],
   "source": [
    "# barcode csvs to fasta files\n",
    "def dataframe_to_fasta(df, output_fasta):\n",
    "    with open(output_fasta, 'w') as f:\n",
    "        for row in df.rows():\n",
    "            name = row[0]  # Assuming 'name' is the first column\n",
    "            barcode = row[1]  # Assuming 'barcode' is the second column\n",
    "            f.write(f\">{name}\\n{barcode}\\n\")\n",
    "\n",
    "\n",
    "# Output file path\n",
    "output_fasta = 'bc30.fasta'\n",
    "\n",
    "# Convert DataFrame to FASTA file\n",
    "dataframe_to_fasta(bc30, output_fasta)\n",
    "\n",
    "def read_first_few_lines(file_path, num_lines):\n",
    "    with open(file_path, 'r') as file:\n",
    "        for i in range(num_lines):\n",
    "            line = file.readline()\n",
    "            if not line:\n",
    "                break  # End of file\n",
    "            print(line.strip())  # Print each line, removing newline characters\n",
    "\n",
    "# Read the first 16 lines\n",
    "num_lines = 16\n",
    "read_first_few_lines(output_fasta, num_lines)\n"
   ]
  },
  {
   "cell_type": "code",
   "execution_count": 7,
   "id": "21e0620e-5c40-463b-9fba-0ee9c44c35df",
   "metadata": {
    "tags": []
   },
   "outputs": [
    {
     "name": "stdout",
     "output_type": "stream",
     "text": [
      "200000 bc30.fasta\n"
     ]
    }
   ],
   "source": [
    "!wc -l bc30.fasta"
   ]
  },
  {
   "cell_type": "code",
   "execution_count": 8,
   "id": "d0b4dd1a-8b65-4a32-a7ed-2e3f7c29f5ad",
   "metadata": {
    "tags": []
   },
   "outputs": [
    {
     "name": "stdout",
     "output_type": "stream",
     "text": [
      ">bc14-1001\n",
      "CAACACACACACAC\n",
      ">bc14-1002\n",
      "ACCAACACACACTG\n",
      ">bc14-1003\n",
      "ACACTGACACACTG\n",
      ">bc14-1004\n",
      "GTACTGACACACAC\n",
      ">bc14-1005\n",
      "ACGTTGACACACCA\n",
      ">bc14-1006\n",
      "CAGTTGACACACTG\n",
      ">bc14-1007\n",
      "GTACGTACACACCA\n",
      ">bc14-1008\n",
      "GTGTCAACACACAC\n"
     ]
    }
   ],
   "source": [
    "# Output file path\n",
    "output_fasta = 'bc14.fasta'\n",
    "\n",
    "# Convert DataFrame to FASTA file\n",
    "dataframe_to_fasta(bc14, output_fasta)\n",
    "\n",
    "# Read the first 16 lines\n",
    "num_lines = 16\n",
    "read_first_few_lines(output_fasta, num_lines)"
   ]
  },
  {
   "cell_type": "code",
   "execution_count": 9,
   "id": "7c5b8461-c976-4e5e-8e1b-be4870e9860b",
   "metadata": {
    "tags": []
   },
   "outputs": [
    {
     "name": "stdout",
     "output_type": "stream",
     "text": [
      "960 bc14.fasta\n"
     ]
    }
   ],
   "source": [
    "!wc -l bc14.fasta"
   ]
  },
  {
   "cell_type": "code",
   "execution_count": null,
   "id": "b0fafa67-7abb-45ac-9243-4a09aae56e4d",
   "metadata": {},
   "outputs": [],
   "source": []
  }
 ],
 "metadata": {
  "kernelspec": {
   "display_name": "Python 3 (ipykernel)",
   "language": "python",
   "name": "python3"
  },
  "language_info": {
   "codemirror_mode": {
    "name": "ipython",
    "version": 3
   },
   "file_extension": ".py",
   "mimetype": "text/x-python",
   "name": "python",
   "nbconvert_exporter": "python",
   "pygments_lexer": "ipython3",
   "version": "3.9.16"
  }
 },
 "nbformat": 4,
 "nbformat_minor": 5
}
